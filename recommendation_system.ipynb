{
 "cells": [
  {
   "cell_type": "markdown",
   "metadata": {},
   "source": [
    "# Required Imports"
   ]
  },
  {
   "cell_type": "code",
   "execution_count": null,
   "metadata": {
    "id": "WbZTZjoIE-Vs"
   },
   "outputs": [],
   "source": [
    "import pandas as pd\n",
    "import numpy as np\n",
    "from scipy.sparse.linalg import svds\n",
    "import matplotlib.pyplot as plt\n",
    "pd.options.display.max_rows=100"
   ]
  },
  {
   "cell_type": "markdown",
   "metadata": {
    "id": "cdO4cTbOE-Vv"
   },
   "source": [
    "# EDA and data cleaning"
   ]
  },
  {
   "cell_type": "code",
   "execution_count": null,
   "metadata": {
    "colab": {
     "base_uri": "https://localhost:8080/",
     "height": 409
    },
    "executionInfo": {
     "elapsed": 5725,
     "status": "error",
     "timestamp": 1587595772590,
     "user": {
      "displayName": "Nishita Lamba",
      "photoUrl": "https://lh3.googleusercontent.com/a-/AOh14GjyrfWquiPzPeTxXbQHLYebm1eYxUD1H3iL4pNK=s64",
      "userId": "02515429384459268129"
     },
     "user_tz": -330
    },
    "id": "xbynUAmrE-Vw",
    "outputId": "e8a1a0cd-6163-496a-8c11-e7e01976be68"
   },
   "outputs": [],
   "source": [
    "# Reading the dataset\n",
    "\n",
    "Luxury_Beauty = pd.read_csv(\"Luxury_Beauty.csv\",header=None)\n",
    "Luxury_Beauty.columns = [\"product_id\",\"user_id\",\"rating\"]"
   ]
  },
  {
   "cell_type": "code",
   "execution_count": null,
   "metadata": {
    "id": "X-URJmWVE-Vy"
   },
   "outputs": [],
   "source": [
    "# Removing duplicate ratings\n",
    "\n",
    "Luxury_Beauty = Luxury_Beauty.groupby([\"product_id\",\"user_id\"]).agg({\"rating\":\"mean\"}).reset_index()"
   ]
  },
  {
   "cell_type": "code",
   "execution_count": null,
   "metadata": {
    "id": "so4y-qPyE-V1"
   },
   "outputs": [],
   "source": [
    "# Distribution of number of ratings per user (How many users have rated once/twice/etc?)\n",
    "\n",
    "user_rating_agg = Luxury_Beauty.groupby(\"user_id\").agg({\"rating\":\"count\"}).reset_index()\n",
    "bins = [0,1,2,3,4,5,10,200]\n",
    "labels = ['1 rating', '2 ratings', '3 ratings', '4 ratings','5 ratings','6-10 ratings','11+ ratings']\n",
    "user_rating_agg[\"ratings_bins\"] = pd.cut(user_rating_agg.rating,\n",
    "                                         bins, labels = labels,\n",
    "                                         include_lowest = False,\n",
    "                                         right=True)\n",
    "user_rating_agg.groupby(\"ratings_bins\").agg({\"rating\":\"count\"}).plot(kind=\"bar\").set_ylabel(\"# users\")"
   ]
  },
  {
   "cell_type": "code",
   "execution_count": null,
   "metadata": {
    "colab": {
     "base_uri": "https://localhost:8080/",
     "height": 232
    },
    "executionInfo": {
     "elapsed": 3859,
     "status": "error",
     "timestamp": 1587595772592,
     "user": {
      "displayName": "Nishita Lamba",
      "photoUrl": "https://lh3.googleusercontent.com/a-/AOh14GjyrfWquiPzPeTxXbQHLYebm1eYxUD1H3iL4pNK=s64",
      "userId": "02515429384459268129"
     },
     "user_tz": -330
    },
    "id": "LQNlrVmUE-V4",
    "outputId": "65be91aa-8d94-4084-fe2d-04a0dc43fd7a"
   },
   "outputs": [],
   "source": [
    "# Segmenting into new and old users - users who've had fewer than 2 and more than 2 ratings\n",
    "\n",
    "old_user_ids = Luxury_Beauty[\"user_id\"].value_counts()[Luxury_Beauty[\"user_id\"].value_counts()>2].index\n",
    "new_user_ids = Luxury_Beauty[\"user_id\"].value_counts()[Luxury_Beauty[\"user_id\"].value_counts()<3].index\n",
    "new_users_ratings = Luxury_Beauty[Luxury_Beauty[\"user_id\"].isin(list(new_user_ids))]\n",
    "old_users_ratings = Luxury_Beauty[Luxury_Beauty[\"user_id\"].isin(list(old_user_ids))]"
   ]
  },
  {
   "cell_type": "code",
   "execution_count": null,
   "metadata": {
    "id": "beDRMEd0E-V6",
    "scrolled": false
   },
   "outputs": [],
   "source": [
    "# Distribution of number of ratings per user - old users only\n",
    "\n",
    "user_rating_agg = old_users_ratings.groupby(\"user_id\").agg({\"rating\":\"count\"}).reset_index()\n",
    "bins = [2,3,4,5,10,200]\n",
    "labels = ['3 ratings', '4 ratings','5 ratings','6-10 ratings','11+ ratings']\n",
    "user_rating_agg[\"ratings_bins\"] = pd.cut(user_rating_agg.rating, bins, labels = labels,include_lowest = False, right=True)\n",
    "user_rating_agg.groupby(\"ratings_bins\").agg({\"rating\":\"count\"}).plot(kind=\"bar\").set_ylabel(\"# users\")"
   ]
  },
  {
   "cell_type": "code",
   "execution_count": null,
   "metadata": {
    "colab": {
     "base_uri": "https://localhost:8080/",
     "height": 215
    },
    "executionInfo": {
     "elapsed": 3777,
     "status": "error",
     "timestamp": 1587595774463,
     "user": {
      "displayName": "Nishita Lamba",
      "photoUrl": "https://lh3.googleusercontent.com/a-/AOh14GjyrfWquiPzPeTxXbQHLYebm1eYxUD1H3iL4pNK=s64",
      "userId": "02515429384459268129"
     },
     "user_tz": -330
    },
    "id": "f5th43_KE-V9",
    "outputId": "7d8a6417-89d2-42fb-8a68-e0ddf08d7247"
   },
   "outputs": [],
   "source": [
    "# Sense check\n",
    "old_users_ratings[\"product_id\"].nunique() # 8,308\n",
    "old_users_ratings[\"user_id\"].nunique() # 19,748\n",
    "new_users_ratings[\"product_id\"].nunique() # 11,784\n",
    "new_users_ratings[\"user_id\"].nunique() # 396,426"
   ]
  },
  {
   "cell_type": "markdown",
   "metadata": {
    "id": "oXxhgNXDE-WA"
   },
   "source": [
    "## Product segmentation"
   ]
  },
  {
   "cell_type": "code",
   "execution_count": null,
   "metadata": {
    "colab": {
     "base_uri": "https://localhost:8080/",
     "height": 232
    },
    "executionInfo": {
     "elapsed": 2383,
     "status": "error",
     "timestamp": 1587595774864,
     "user": {
      "displayName": "Nishita Lamba",
      "photoUrl": "https://lh3.googleusercontent.com/a-/AOh14GjyrfWquiPzPeTxXbQHLYebm1eYxUD1H3iL4pNK=s64",
      "userId": "02515429384459268129"
     },
     "user_tz": -330
    },
    "id": "7WwZxqvSE-WB",
    "outputId": "4f1d77c3-10f2-41f7-a29e-14e233c5d975",
    "scrolled": false
   },
   "outputs": [],
   "source": [
    "# Product wise average rating vs number of ratings made\n",
    "\n",
    "# Grouping to a product level\n",
    "product_rating_agg = old_users_ratings.groupby(\"product_id\").agg({\"rating\":[\"count\",\"mean\"]}).reset_index()\n",
    "product_rating_agg.columns = ['_'.join(col).strip() for col in product_rating_agg.columns.values]\n",
    "\n",
    "# Subsetting for products which have atleast 30 ratings (for brevity) - this leaves only 595/8,308 products\n",
    "#product_rating_agg_subset = product_rating_agg[product_rating_agg[\"rating_count\"]>=30]\n",
    "\n",
    "# Plotting\n",
    "product_rating_agg.plot(\"rating_count\",\"rating_mean\",kind=\"scatter\", figsize = (15,10))\n",
    "plt.axvline(product_rating_agg[\"rating_count\"].mean(),color='k', linestyle='dashdot', linewidth=2)\n",
    "plt.axhline(product_rating_agg[\"rating_mean\"].mean(),color='k', linestyle='dashdot', linewidth=2)"
   ]
  },
  {
   "cell_type": "markdown",
   "metadata": {
    "id": "LfAgWQOFE-WD"
   },
   "source": [
    "## User segmentation"
   ]
  },
  {
   "cell_type": "code",
   "execution_count": null,
   "metadata": {
    "colab": {
     "base_uri": "https://localhost:8080/",
     "height": 232
    },
    "executionInfo": {
     "elapsed": 3783,
     "status": "error",
     "timestamp": 1587595776694,
     "user": {
      "displayName": "Nishita Lamba",
      "photoUrl": "https://lh3.googleusercontent.com/a-/AOh14GjyrfWquiPzPeTxXbQHLYebm1eYxUD1H3iL4pNK=s64",
      "userId": "02515429384459268129"
     },
     "user_tz": -330
    },
    "id": "iwDpSM1CE-WE",
    "outputId": "f7c7c7af-97b6-4d8b-972b-c8dd5a7a6bd0"
   },
   "outputs": [],
   "source": [
    "# User wise average rating vs number of ratings available\n",
    "\n",
    "# Grouping to a user level\n",
    "user_rating_agg = old_users_ratings.groupby(\"user_id\").agg({\"rating\":[\"count\",\"mean\"]}).reset_index()\n",
    "user_rating_agg.columns = ['_'.join(col).strip() for col in user_rating_agg.columns.values]\n",
    "\n",
    "# Plotting\n",
    "user_rating_agg.plot(\"rating_count\",\"rating_mean\",kind=\"scatter\", figsize = (15,10))\n",
    "plt.axvline(user_rating_agg[\"rating_count\"].mean(),color='k', linestyle='dashdot', linewidth=2)\n",
    "plt.axhline(user_rating_agg[\"rating_mean\"].mean(),color='k', linestyle='dashdot', linewidth=2)"
   ]
  },
  {
   "cell_type": "markdown",
   "metadata": {
    "id": "CmUlES1AE-WG"
   },
   "source": [
    "## Creating the User-Item interaction table"
   ]
  },
  {
   "cell_type": "code",
   "execution_count": null,
   "metadata": {
    "colab": {
     "base_uri": "https://localhost:8080/",
     "height": 215
    },
    "executionInfo": {
     "elapsed": 2711,
     "status": "error",
     "timestamp": 1587595777381,
     "user": {
      "displayName": "Nishita Lamba",
      "photoUrl": "https://lh3.googleusercontent.com/a-/AOh14GjyrfWquiPzPeTxXbQHLYebm1eYxUD1H3iL4pNK=s64",
      "userId": "02515429384459268129"
     },
     "user_tz": -330
    },
    "id": "UP5SzzwqE-WG",
    "outputId": "889d0af3-50c9-42e7-aeea-43cd64e2db7a"
   },
   "outputs": [],
   "source": [
    "# Pivoting data from long to wide format. Each row corresponds to one user and each column represents a product\n",
    "\n",
    "ratings_pivoted = old_users_ratings.pivot(index = 'user_id',\n",
    "                                                 columns ='product_id',\n",
    "                                                 values = 'rating').fillna(0)"
   ]
  },
  {
   "cell_type": "code",
   "execution_count": null,
   "metadata": {
    "colab": {
     "base_uri": "https://localhost:8080/",
     "height": 164
    },
    "executionInfo": {
     "elapsed": 1784,
     "status": "error",
     "timestamp": 1587595778307,
     "user": {
      "displayName": "Nishita Lamba",
      "photoUrl": "https://lh3.googleusercontent.com/a-/AOh14GjyrfWquiPzPeTxXbQHLYebm1eYxUD1H3iL4pNK=s64",
      "userId": "02515429384459268129"
     },
     "user_tz": -330
    },
    "id": "wxU2b3QJE-WJ",
    "outputId": "c827437a-e322-4a41-a21f-c252809ea44a"
   },
   "outputs": [],
   "source": [
    "ratings_pivoted.head()"
   ]
  },
  {
   "cell_type": "markdown",
   "metadata": {
    "id": "WFtZzCWUE-WM"
   },
   "source": [
    "# Recommendation systems - Collaborative filtering"
   ]
  },
  {
   "cell_type": "markdown",
   "metadata": {
    "id": "DARg1hGQE-WM"
   },
   "source": [
    "## 1. Model based (Matrix Factorisation using SVD)"
   ]
  },
  {
   "cell_type": "code",
   "execution_count": null,
   "metadata": {
    "colab": {
     "base_uri": "https://localhost:8080/",
     "height": 232
    },
    "executionInfo": {
     "elapsed": 1357,
     "status": "error",
     "timestamp": 1587595778702,
     "user": {
      "displayName": "Nishita Lamba",
      "photoUrl": "https://lh3.googleusercontent.com/a-/AOh14GjyrfWquiPzPeTxXbQHLYebm1eYxUD1H3iL4pNK=s64",
      "userId": "02515429384459268129"
     },
     "user_tz": -330
    },
    "id": "pY_Qg8bsE-WM",
    "outputId": "f2ef86cf-e411-45cc-b223-b5c5cdc1f118"
   },
   "outputs": [],
   "source": [
    "ratings_matrix = ratings_pivoted.values # Converting the ratings into a matrix format\n",
    "\n",
    "# De-meaning the rating for each user \n",
    "user_ratings_mean = np.mean(ratings_matrix, axis = 1)\n",
    "ratings_matrix_demeaned = ratings_matrix - user_ratings_mean.reshape(-1, 1)\n",
    "ratings_matrix_demeaned"
   ]
  },
  {
   "cell_type": "code",
   "execution_count": null,
   "metadata": {
    "colab": {
     "base_uri": "https://localhost:8080/",
     "height": 215
    },
    "executionInfo": {
     "elapsed": 1326,
     "status": "error",
     "timestamp": 1587595779380,
     "user": {
      "displayName": "Nishita Lamba",
      "photoUrl": "https://lh3.googleusercontent.com/a-/AOh14GjyrfWquiPzPeTxXbQHLYebm1eYxUD1H3iL4pNK=s64",
      "userId": "02515429384459268129"
     },
     "user_tz": -330
    },
    "id": "smz8EFKkE-WO",
    "outputId": "d19cf326-e71e-4790-c69b-bd4e5f97a9d3"
   },
   "outputs": [],
   "source": [
    "# Performing Singular Value Decomposition \n",
    "\n",
    "U, sigma, Vt = svds(ratings_matrix_demeaned, k = 50)\n",
    "sigma = np.diag(sigma)\n",
    "all_user_predicted_ratings = np.dot(np.dot(U, sigma), Vt) + user_ratings_mean.reshape(-1, 1)"
   ]
  },
  {
   "cell_type": "code",
   "execution_count": null,
   "metadata": {
    "colab": {
     "base_uri": "https://localhost:8080/",
     "height": 232
    },
    "executionInfo": {
     "elapsed": 1805,
     "status": "error",
     "timestamp": 1587595780538,
     "user": {
      "displayName": "Nishita Lamba",
      "photoUrl": "https://lh3.googleusercontent.com/a-/AOh14GjyrfWquiPzPeTxXbQHLYebm1eYxUD1H3iL4pNK=s64",
      "userId": "02515429384459268129"
     },
     "user_tz": -330
    },
    "id": "5rJlDc5bE-WQ",
    "outputId": "58993d7d-7d96-472d-ee57-02024a4e7c5c"
   },
   "outputs": [],
   "source": [
    "# Creating a dataframe of the predictions\n",
    "\n",
    "preds_df = pd.DataFrame(all_user_predicted_ratings,\n",
    "                        columns = ratings_pivoted.columns,\n",
    "                        index=ratings_pivoted.index)\n",
    "preds_df.head()"
   ]
  },
  {
   "cell_type": "markdown",
   "metadata": {
    "id": "7BJEILNRE-WS"
   },
   "source": [
    "### Functionalizing recommendation"
   ]
  },
  {
   "cell_type": "code",
   "execution_count": null,
   "metadata": {
    "id": "XsA-L3YKE-WS"
   },
   "outputs": [],
   "source": [
    "# Function to sort products with highest predicted rating for a given user\n",
    "\n",
    "def recommend_products_1(user_id, num_recommendations=5):\n",
    "    \n",
    "    # Get and sort the user's predictions\n",
    "    sorted_user_predictions = pd.DataFrame(preds_df.loc[user_id].sort_values(ascending=False)).reset_index()\n",
    "    \n",
    "    # Get the user's existing ratings\n",
    "    user_data = old_users_ratings[old_users_ratings[\"user_id\"] == user_id]\n",
    "    \n",
    "    # printing existing products and ratings\n",
    "    print(\"The user has currently rated:\")\n",
    "    print(user_data)\n",
    "    download_print_main_image(user_data)\n",
    "    \n",
    "    # Recommend the highest predicted rating movies that the user hasn't seen yet.\n",
    "    recommendations = sorted_user_predictions[~sorted_user_predictions[\"product_id\"].isin(user_data[\"product_id\"])].iloc[:num_recommendations,:]\n",
    "    print(f'\\nRecommending highest {num_recommendations} predicted ratings products not already rated.')\n",
    "    print(recommendations)\n",
    "    download_print_main_image(recommendations)\n",
    "    return None\n"
   ]
  },
  {
   "cell_type": "code",
   "execution_count": null,
   "metadata": {
    "id": "DvSSplHfE-WV"
   },
   "outputs": [],
   "source": [
    "# Function to download the image, store it and print it\n",
    "\n",
    "def download_print_main_image(prod_ids):\n",
    "\n",
    "    import urllib.request\n",
    "    from IPython.display import Image, display\n",
    "    for i in range(len(prod_ids[\"product_id\"])):\n",
    "        \n",
    "        # Jugaad way of downloading the images. Has worked most of the times so far.\n",
    "        url = \"http://images.amazon.com/images/P/\" + prod_ids[\"product_id\"].iloc[i] + \".012_SCTZZZZZZZ_.jpg\"\n",
    "        img_name = \"img\" + str(i) + \".jpg\"\n",
    "        urllib.request.urlretrieve(url, img_name)\n",
    "        \n",
    "        # Printing image\n",
    "        from IPython.display import Image\n",
    "        display(Image(filename=img_name, width = 200))"
   ]
  },
  {
   "cell_type": "code",
   "execution_count": null,
   "metadata": {
    "colab": {
     "base_uri": "https://localhost:8080/",
     "height": 283
    },
    "executionInfo": {
     "elapsed": 885,
     "status": "error",
     "timestamp": 1587595781102,
     "user": {
      "displayName": "Nishita Lamba",
      "photoUrl": "https://lh3.googleusercontent.com/a-/AOh14GjyrfWquiPzPeTxXbQHLYebm1eYxUD1H3iL4pNK=s64",
      "userId": "02515429384459268129"
     },
     "user_tz": -330
    },
    "id": "4jFJErZlE-WX",
    "outputId": "3d758d6d-679f-43f9-dfad-55676eeacdc6",
    "scrolled": false
   },
   "outputs": [],
   "source": [
    "recommend_products_1(\"A0488385844WNV2OWO9X\",3)"
   ]
  },
  {
   "cell_type": "code",
   "execution_count": null,
   "metadata": {
    "colab": {
     "base_uri": "https://localhost:8080/",
     "height": 283
    },
    "executionInfo": {
     "elapsed": 980,
     "status": "error",
     "timestamp": 1587595781638,
     "user": {
      "displayName": "Nishita Lamba",
      "photoUrl": "https://lh3.googleusercontent.com/a-/AOh14GjyrfWquiPzPeTxXbQHLYebm1eYxUD1H3iL4pNK=s64",
      "userId": "02515429384459268129"
     },
     "user_tz": -330
    },
    "id": "jbQxBcmcE-Wa",
    "outputId": "26cf9bec-5335-41c3-9725-94bfc1b0cd05",
    "scrolled": false
   },
   "outputs": [],
   "source": [
    "recommend_products_1(\"A0067293ETUPO6WG7DKU\",4)"
   ]
  },
  {
   "cell_type": "code",
   "execution_count": null,
   "metadata": {
    "id": "z31L952ZE-Wc"
   },
   "outputs": [],
   "source": [
    "def coverage(func):\n",
    "    for user in old_users_ratings[\"user_id\"].unique():\n",
    "        func(user)"
   ]
  },
  {
   "cell_type": "code",
   "execution_count": null,
   "metadata": {
    "colab": {
     "base_uri": "https://localhost:8080/",
     "height": 164
    },
    "executionInfo": {
     "elapsed": 921,
     "status": "error",
     "timestamp": 1587595782765,
     "user": {
      "displayName": "Nishita Lamba",
      "photoUrl": "https://lh3.googleusercontent.com/a-/AOh14GjyrfWquiPzPeTxXbQHLYebm1eYxUD1H3iL4pNK=s64",
      "userId": "02515429384459268129"
     },
     "user_tz": -330
    },
    "id": "gBEmwlXsE-We",
    "outputId": "5e182819-c973-4982-e520-8f06b146b728"
   },
   "outputs": [],
   "source": [
    "old_users_ratings[\"user_id\"].unique()"
   ]
  },
  {
   "cell_type": "code",
   "execution_count": null,
   "metadata": {
    "id": "IKlvLO0qE-Wg"
   },
   "outputs": [],
   "source": []
  }
 ],
 "metadata": {
  "colab": {
   "name": "recommendation_system.ipynb",
   "provenance": []
  },
  "kernelspec": {
   "display_name": "Python 3",
   "language": "python",
   "name": "python3"
  },
  "language_info": {
   "codemirror_mode": {
    "name": "ipython",
    "version": 3
   },
   "file_extension": ".py",
   "mimetype": "text/x-python",
   "name": "python",
   "nbconvert_exporter": "python",
   "pygments_lexer": "ipython3",
   "version": "3.8.3"
  }
 },
 "nbformat": 4,
 "nbformat_minor": 1
}
